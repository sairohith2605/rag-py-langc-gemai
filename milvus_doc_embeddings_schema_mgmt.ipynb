{
 "cells": [
  {
   "cell_type": "code",
   "id": "initial_id",
   "metadata": {
    "collapsed": true
   },
   "source": [
    "from dotenv import load_dotenv\n",
    "from pymilvus import MilvusClient, DataType\n",
    "import os"
   ],
   "outputs": [],
   "execution_count": null
  },
  {
   "metadata": {},
   "cell_type": "code",
   "source": [
    "load_dotenv()\n",
    "milvus_client = MilvusClient(uri=os.getenv(\"MILVUS_CONNECTION_URI\"))\n",
    "schema = milvus_client.create_schema()\n",
    "schema.add_field(field_name=\"id\", datatype=DataType.VARCHAR, is_primary=True, max_length=512, auto_id=True)\n",
    "schema.add_field(field_name=\"text\", datatype=DataType.VARCHAR, max_length=65535)\n",
    "schema.add_field(field_name=\"corpus_source_file_name\", datatype=DataType.VARCHAR, max_length=127, nullable=True)\n",
    "schema.add_field(field_name=\"data_vector\", datatype=DataType.FLOAT_VECTOR, dim=768)\n",
    "schema.add_field(field_name=\"tags\", datatype=DataType.ARRAY, element_type=DataType.VARCHAR, max_capacity=128, max_length=32, nullable=True)\n",
    "schema.enable_dynamic_field = True"
   ],
   "id": "d65c9e77d4cf3e5d",
   "outputs": [],
   "execution_count": null
  },
  {
   "metadata": {},
   "cell_type": "code",
   "source": [
    "data_vector_index = milvus_client.prepare_index_params()\n",
    "data_vector_index.add_index(\n",
    "    field_name=\"data_vector\",\n",
    "    index_type=\"IVF_FLAT\",\n",
    "    index_name=\"idx_data_vector_ivf_flat\",\n",
    "    metric_type=\"COSINE\"\n",
    ")"
   ],
   "id": "de4e43ae9e01a1eb",
   "outputs": [],
   "execution_count": null
  },
  {
   "metadata": {},
   "cell_type": "code",
   "source": [
    "milvus_client.create_collection(\n",
    "    collection_name=\"doc_embeddings\",\n",
    "    schema=schema,\n",
    "    index_params=data_vector_index,\n",
    "    enable_dynamic_field=True\n",
    ")"
   ],
   "id": "771657d4434b5cf6",
   "outputs": [],
   "execution_count": null
  }
 ],
 "metadata": {
  "kernelspec": {
   "display_name": "Python 3",
   "language": "python",
   "name": "python3"
  },
  "language_info": {
   "codemirror_mode": {
    "name": "ipython",
    "version": 2
   },
   "file_extension": ".py",
   "mimetype": "text/x-python",
   "name": "python",
   "nbconvert_exporter": "python",
   "pygments_lexer": "ipython2",
   "version": "2.7.6"
  }
 },
 "nbformat": 4,
 "nbformat_minor": 5
}
